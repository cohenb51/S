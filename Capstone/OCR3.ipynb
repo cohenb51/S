{
 "cells": [
  {
   "cell_type": "code",
   "execution_count": 47,
   "metadata": {},
   "outputs": [],
   "source": [
    "import numpy as np\n"
   ]
  },
  {
   "cell_type": "markdown",
   "metadata": {},
   "source": [
    "### Import the data"
   ]
  },
  {
   "cell_type": "code",
   "execution_count": 194,
   "metadata": {},
   "outputs": [],
   "source": [
    "dataset = np.loadtxt('A_Z Handwritten Data.csv', delimiter=',')"
   ]
  },
  {
   "cell_type": "code",
   "execution_count": 214,
   "metadata": {},
   "outputs": [
    {
     "data": {
      "text/plain": [
       "(372451, 785)"
      ]
     },
     "execution_count": 214,
     "metadata": {},
     "output_type": "execute_result"
    }
   ],
   "source": [
    "dataset.shape"
   ]
  },
  {
   "cell_type": "code",
   "execution_count": 215,
   "metadata": {},
   "outputs": [],
   "source": [
    "X = dataset[:,0:784]\n",
    "Y = dataset[:,0] "
   ]
  },
  {
   "cell_type": "markdown",
   "metadata": {},
   "source": [
    "### Let's explore the data a bit. "
   ]
  },
  {
   "cell_type": "code",
   "execution_count": 143,
   "metadata": {},
   "outputs": [
    {
     "data": {
      "text/plain": [
       "array([[0.0000e+00, 1.3870e+04],\n",
       "       [1.0000e+00, 8.6680e+03],\n",
       "       [2.0000e+00, 2.3409e+04],\n",
       "       [3.0000e+00, 1.0134e+04],\n",
       "       [4.0000e+00, 1.1440e+04],\n",
       "       [5.0000e+00, 1.1630e+03],\n",
       "       [6.0000e+00, 5.7620e+03],\n",
       "       [7.0000e+00, 7.2180e+03],\n",
       "       [8.0000e+00, 1.1200e+03],\n",
       "       [9.0000e+00, 8.4930e+03],\n",
       "       [1.0000e+01, 5.6030e+03],\n",
       "       [1.1000e+01, 1.1586e+04],\n",
       "       [1.2000e+01, 1.2336e+04],\n",
       "       [1.3000e+01, 1.9010e+04],\n",
       "       [1.4000e+01, 5.7825e+04],\n",
       "       [1.5000e+01, 1.9341e+04],\n",
       "       [1.6000e+01, 5.8120e+03],\n",
       "       [1.7000e+01, 1.1566e+04],\n",
       "       [1.8000e+01, 4.8419e+04],\n",
       "       [1.9000e+01, 2.2495e+04],\n",
       "       [2.0000e+01, 2.9008e+04],\n",
       "       [2.1000e+01, 4.1820e+03],\n",
       "       [2.2000e+01, 1.0784e+04],\n",
       "       [2.3000e+01, 6.2720e+03],\n",
       "       [2.4000e+01, 1.0859e+04],\n",
       "       [2.5000e+01, 6.0760e+03]])"
      ]
     },
     "execution_count": 143,
     "metadata": {},
     "output_type": "execute_result"
    }
   ],
   "source": [
    "#This prints the count of each alphabet char. 0 is A and 25 is Z\n",
    "unique, counts = np.unique(Y, return_counts=True)\n",
    "frequencyCount = (np.asarray((unique, counts)).T)\n",
    "frequencyCount"
   ]
  },
  {
   "cell_type": "code",
   "execution_count": 166,
   "metadata": {},
   "outputs": [
    {
     "name": "stdout",
     "output_type": "stream",
     "text": [
      "The most pictures of any letter is \n",
      "Letter 14 with 57825 pictures\n"
     ]
    }
   ],
   "source": [
    "#The max of any letter is\n",
    "most = frequencyCount.T[1].max()\n",
    "for i in range(25):\n",
    "  if(frequencyCount.T[1][i] == most):\n",
    "    print(\"The most pictures of any letter is \")\n",
    "    print(\"Letter \" + str(int(frequencyCount.T[0][i])) + \" with \" + str(int(most)) + \" pictures\")\n",
    "    "
   ]
  },
  {
   "cell_type": "markdown",
   "metadata": {},
   "source": [
    "That's a 'O'"
   ]
  },
  {
   "cell_type": "code",
   "execution_count": 169,
   "metadata": {},
   "outputs": [
    {
     "name": "stdout",
     "output_type": "stream",
     "text": [
      "The minimum pictures of any letter is \n",
      "Letter 8 with 1120 pictures\n"
     ]
    }
   ],
   "source": [
    "#The min of any letter is\n",
    "minimum = frequencyCount.T[1].min()\n",
    "for i in range(25):\n",
    "  if(frequencyCount.T[1][i] == minimum):\n",
    "    print(\"The minimum pictures of any letter is \")\n",
    "    print(\"Letter \" + str(int(frequencyCount.T[0][i])) + \" with \" + str(int(minimum)) + \" pictures\")"
   ]
  },
  {
   "cell_type": "markdown",
   "metadata": {},
   "source": [
    "Thats a 'I'"
   ]
  },
  {
   "cell_type": "code",
   "execution_count": 188,
   "metadata": {},
   "outputs": [
    {
     "data": {
      "text/plain": [
       "Text(0.5, 1.0, 'Frequency Counts')"
      ]
     },
     "execution_count": 188,
     "metadata": {},
     "output_type": "execute_result"
    },
    {
     "data": {
      "image/png": "[encoded data removed]",
      "text/plain": [
       "<Figure size 432x288 with 1 Axes>"
      ]
     },
     "metadata": {
      "needs_background": "light"
     },
     "output_type": "display_data"
    }
   ],
   "source": [
    "#Let's graph the distribution\n",
    "%matplotlib inline\n",
    "import matplotlib.pyplot as plt\n",
    "import string\n",
    "plt.bar(frequencyCount.T[0], frequencyCount.T[1], tick_label = ['A','B','C','D','E','F','G','H','I','J','K','L','M','N','O','P','Q','R','S','T','U','V','W','X','Y','Z'])\n",
    "plt.title(\"Frequency Counts\")"
   ]
  },
  {
   "cell_type": "markdown",
   "metadata": {},
   "source": [
    "Each picture is a 28 X 28 Image "
   ]
  },
  {
   "cell_type": "code",
   "execution_count": 193,
   "metadata": {},
   "outputs": [
    {
     "name": "stdout",
     "output_type": "stream",
     "text": [
      "There are a total of 372451 Total photographs\n"
     ]
    }
   ],
   "source": [
    "print(\"There are a total of \"+ str(X.shape[0]) + \" Total photographs\")"
   ]
  },
  {
   "cell_type": "markdown",
   "metadata": {},
   "source": [
    "Let's look at what a picture looks like\n",
    " \n"
   ]
  },
  {
   "cell_type": "code",
   "execution_count": 197,
   "metadata": {},
   "outputs": [
    {
     "data": {
      "text/plain": [
       "(784,)"
      ]
     },
     "execution_count": 197,
     "metadata": {},
     "output_type": "execute_result"
    }
   ],
   "source": [
    "X[0].shape"
   ]
  },
  {
   "cell_type": "markdown",
   "metadata": {},
   "source": [
    "The dimentions seem to be flattened so first let's reshape"
   ]
  },
  {
   "cell_type": "code",
   "execution_count": 208,
   "metadata": {},
   "outputs": [
    {
     "data": {
      "image/png": "[encoded data removed]",
      "text/plain": [
       "<PIL.Image.Image image mode=L size=28x28 at 0x2C3A09A09B0>"
      ]
     },
     "execution_count": 208,
     "metadata": {},
     "output_type": "execute_result"
    }
   ],
   "source": [
    "tmpImg = X[0].reshape(28, 28, 1).astype('float32')\n",
    "array_to_img(tmpImg)"
   ]
  },
  {
   "cell_type": "code",
   "execution_count": 51,
   "metadata": {},
   "outputs": [],
   "source": [
    "from sklearn.model_selection import train_test_split\n",
    "(X_train, X_test, Y_train, Y_test) = train_test_split(X, Y, test_size=0.25)"
   ]
  },
  {
   "cell_type": "code",
   "execution_count": 52,
   "metadata": {},
   "outputs": [],
   "source": [
    "X_train = X_train.reshape(X_train.shape[0], 28, 28, 1).astype('float32')\n",
    "X_test = X_test.reshape(X_test.shape[0], 28, 28, 1).astype('float32')"
   ]
  },
  {
   "cell_type": "code",
   "execution_count": 53,
   "metadata": {},
   "outputs": [
    {
     "data": {
      "text/plain": [
       "(28, 28, 1)"
      ]
     },
     "execution_count": 53,
     "metadata": {},
     "output_type": "execute_result"
    }
   ],
   "source": [
    "X_train[0].shape"
   ]
  },
  {
   "cell_type": "code",
   "execution_count": 54,
   "metadata": {},
   "outputs": [],
   "source": [
    "from keras.utils import np_utils\n",
    "Y_train = np_utils.to_categorical(Y_train)\n",
    "Y_test = np_utils.to_categorical(Y_test)\n",
    "X_train = X_train / 255\n",
    "X_test = X_test / 255\n"
   ]
  },
  {
   "cell_type": "code",
   "execution_count": 55,
   "metadata": {},
   "outputs": [],
   "source": [
    "from keras.models import Sequential\n",
    "from keras.layers import Dense, Conv2D, Flatten\n",
    "model = Sequential()\n",
    "\n",
    "model.add(Conv2D(64, kernel_size=3, activation='relu', input_shape=(28,28,1)))\n",
    "model.add(Conv2D(32, kernel_size=3, activation='relu'))\n",
    "model.add(Flatten())\n",
    "model.add(Dense(26, activation='softmax'))"
   ]
  },
  {
   "cell_type": "code",
   "execution_count": 56,
   "metadata": {},
   "outputs": [],
   "source": [
    "model.compile(optimizer='adam', loss='categorical_crossentropy', metrics=['accuracy'])"
   ]
  },
  {
   "cell_type": "code",
   "execution_count": 57,
   "metadata": {},
   "outputs": [
    {
     "name": "stdout",
     "output_type": "stream",
     "text": [
      "Train on 279338 samples, validate on 93113 samples\n",
      "Epoch 1/3\n",
      "279338/279338 [==============================] - 734s 3ms/step - loss: 0.1300 - acc: 0.9645 - val_loss: 0.0741 - val_acc: 0.9792\n",
      "Epoch 2/3\n",
      "279338/279338 [==============================] - 706s 3ms/step - loss: 0.0486 - acc: 0.9868 - val_loss: 0.0508 - val_acc: 0.9863\n",
      "Epoch 3/3\n",
      "279338/279338 [==============================] - 688s 2ms/step - loss: 0.0268 - acc: 0.9925 - val_loss: 0.0417 - val_acc: 0.9898\n"
     ]
    },
    {
     "data": {
      "text/plain": [
       "<keras.callbacks.History at 0x2c25cb74f98>"
      ]
     },
     "execution_count": 57,
     "metadata": {},
     "output_type": "execute_result"
    }
   ],
   "source": [
    "#train the model\n",
    "model.fit(X_train, Y_train, validation_data=(X_test, Y_test), epochs=3)"
   ]
  },
  {
   "cell_type": "markdown",
   "metadata": {},
   "source": [
    "### Let's see what the output for a prediction looks like"
   ]
  },
  {
   "cell_type": "code",
   "execution_count": 64,
   "metadata": {},
   "outputs": [
    {
     "data": {
      "image/png": "[encoded data removed]",
      "text/plain": [
       "<PIL.Image.Image image mode=L size=28x28 at 0x2C20C73C048>"
      ]
     },
     "execution_count": 64,
     "metadata": {},
     "output_type": "execute_result"
    }
   ],
   "source": [
    "from keras.preprocessing.image import img_to_array, array_to_img\n",
    "array_to_img(X_test[0])"
   ]
  },
  {
   "cell_type": "code",
   "execution_count": 66,
   "metadata": {},
   "outputs": [
    {
     "data": {
      "text/plain": [
       "array([[4.48346292e-16, 1.81343418e-14, 2.99864337e-06, 4.40904332e-14,\n",
       "        3.78592879e-10, 1.66620020e-14, 9.00878206e-07, 3.35664452e-09,\n",
       "        3.35903939e-13, 1.14073737e-08, 1.07443412e-07, 2.12866114e-10,\n",
       "        3.38315487e-11, 1.12454476e-10, 6.36635775e-08, 1.97787090e-16,\n",
       "        5.30658095e-09, 1.48922199e-15, 2.77008250e-10, 3.98270148e-13,\n",
       "        9.99995589e-01, 2.04109537e-12, 3.71573265e-07, 3.04481163e-11,\n",
       "        1.11354681e-09, 1.48655888e-09]], dtype=float32)"
      ]
     },
     "execution_count": 66,
     "metadata": {},
     "output_type": "execute_result"
    }
   ],
   "source": [
    "images = np.array([X_test[0]])\n",
    "model.predict(images)"
   ]
  },
  {
   "cell_type": "code",
   "execution_count": 209,
   "metadata": {},
   "outputs": [],
   "source": [
    "from keras.preprocessing.image import img_to_array, array_to_img\n",
    "#pic = Image.open(\"C-33.png\")\n",
    "pic = Image.open(\"test2.png\")\n",
    "pic = pic.resize((28,28))\n",
    "img = img_to_array(pic)\n",
    "img.shape\n",
    "\n",
    "\n",
    "img = color.rgb2gray(img)"
   ]
  },
  {
   "cell_type": "code",
   "execution_count": 210,
   "metadata": {},
   "outputs": [
    {
     "data": {
      "text/plain": [
       "(28, 28)"
      ]
     },
     "execution_count": 210,
     "metadata": {},
     "output_type": "execute_result"
    }
   ],
   "source": [
    "img.shape"
   ]
  },
  {
   "cell_type": "code",
   "execution_count": 211,
   "metadata": {},
   "outputs": [
    {
     "data": {
      "text/plain": [
       "(1, 28, 28, 1)"
      ]
     },
     "execution_count": 211,
     "metadata": {},
     "output_type": "execute_result"
    }
   ],
   "source": [
    "images = np.array([img])\n",
    "images = images.reshape(1, 28, 28, 1).astype('float32')\n",
    "images.shape"
   ]
  },
  {
   "cell_type": "code",
   "execution_count": 212,
   "metadata": {},
   "outputs": [
    {
     "data": {
      "text/plain": [
       "array([[0., 1., 0., 0., 0., 0., 0., 0., 0., 0., 0., 0., 0., 0., 0., 0.,\n",
       "        0., 0., 0., 0., 0., 0., 0., 0., 0., 0.]], dtype=float32)"
      ]
     },
     "execution_count": 212,
     "metadata": {},
     "output_type": "execute_result"
    }
   ],
   "source": [
    "model.predict(images)"
   ]
  },
  {
   "cell_type": "code",
   "execution_count": 213,
   "metadata": {},
   "outputs": [
    {
     "data": {
      "image/png": "[encoded data removed]",
      "text/plain": [
       "<PIL.Image.Image image mode=L size=28x28 at 0x2C21825B518>"
      ]
     },
     "execution_count": 213,
     "metadata": {},
     "output_type": "execute_result"
    }
   ],
   "source": [
    "array_to_img(images[0])"
   ]
  },
  {
   "cell_type": "code",
   "execution_count": null,
   "metadata": {},
   "outputs": [],
   "source": []
  },
  {
   "cell_type": "code",
   "execution_count": null,
   "metadata": {},
   "outputs": [],
   "source": []
  }
 ],
 "metadata": {
  "kernelspec": {
   "display_name": "Python 3",
   "language": "python",
   "name": "python3"
  },
  "language_info": {
   "codemirror_mode": {
    "name": "ipython",
    "version": 3
   },
   "file_extension": ".py",
   "mimetype": "text/x-python",
   "name": "python",
   "nbconvert_exporter": "python",
   "pygments_lexer": "ipython3",
   "version": "3.7.3"
  }
 },
 "nbformat": 4,
 "nbformat_minor": 2
}
