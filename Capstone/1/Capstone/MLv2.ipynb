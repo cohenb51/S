{
 "cells": [
  {
   "cell_type": "code",
   "execution_count": 63,
   "metadata": {},
   "outputs": [],
   "source": [
    "import pandas as pd\n",
    "from sklearn.linear_model import LinearRegression\n",
    "import numpy as np\n",
    "import matplotlib.pyplot as plt"
   ]
  },
  {
   "cell_type": "code",
   "execution_count": 64,
   "metadata": {},
   "outputs": [
    {
     "data": {
      "text/html": [
       "<div>\n",
       "<style scoped>\n",
       "    .dataframe tbody tr th:only-of-type {\n",
       "        vertical-align: middle;\n",
       "    }\n",
       "\n",
       "    .dataframe tbody tr th {\n",
       "        vertical-align: top;\n",
       "    }\n",
       "\n",
       "    .dataframe thead th {\n",
       "        text-align: right;\n",
       "    }\n",
       "</style>\n",
       "<table border=\"1\" class=\"dataframe\">\n",
       "  <thead>\n",
       "    <tr style=\"text-align: right;\">\n",
       "      <th></th>\n",
       "      <th>model</th>\n",
       "      <th>train_r2</th>\n",
       "      <th>train_mse</th>\n",
       "      <th>cross_val_score</th>\n",
       "    </tr>\n",
       "  </thead>\n",
       "  <tbody>\n",
       "  </tbody>\n",
       "</table>\n",
       "</div>"
      ],
      "text/plain": [
       "Empty DataFrame\n",
       "Columns: [model, train_r2, train_mse, cross_val_score]\n",
       "Index: []"
      ]
     },
     "execution_count": 64,
     "metadata": {},
     "output_type": "execute_result"
    }
   ],
   "source": [
    "results = pd.DataFrame(columns=('model', 'train_r2', 'train_mse', 'cross_val_score'))\n",
    "results"
   ]
  },
  {
   "cell_type": "code",
   "execution_count": 65,
   "metadata": {},
   "outputs": [],
   "source": [
    "df = pd.read_csv('cleaned_features.csv')"
   ]
  },
  {
   "cell_type": "code",
   "execution_count": 66,
   "metadata": {},
   "outputs": [],
   "source": [
    "x = df[['Movies', 'Thriller', 'Comedy',\n",
    "       'Documentary', 'Fantasy/Fairy tales', 'Action', 'Music',\n",
    "       'Classical music', 'Rock', 'Opera', 'Swing, Jazz', 'Art exhibitions',\n",
    "       'Science and technology', 'Religion', 'Countryside, outdoors',\n",
    "       'Fun with friends', 'Dancing', 'Law', 'Musical instruments',\n",
    "       'Prioritising workload', 'Writing notes', 'Funniness', 'Fake',\n",
    "       'Decision making', 'Empathy', 'Judgment calls', 'Loneliness',\n",
    "       'Number of friends', 'Appearence and gestures', 'Personality',\n",
    "       'Assertiveness', 'Healthy eating', 'Thinking ahead',\n",
    "       'Finances', 'Spending on looks', 'Number of siblings',\n",
    "       'Education']].astype(float)\n",
    "y = df[['Workaholism']]"
   ]
  },
  {
   "cell_type": "code",
   "execution_count": 67,
   "metadata": {},
   "outputs": [],
   "source": [
    "from sklearn.model_selection import train_test_split\n",
    "X_train, X_test, y_train, y_test = train_test_split(x, y, test_size=0.15)"
   ]
  },
  {
   "cell_type": "code",
   "execution_count": 68,
   "metadata": {},
   "outputs": [
    {
     "name": "stdout",
     "output_type": "stream",
     "text": [
      "Our r squared score is -1.6349398333836973e-05\n",
      "our mean squared error is 1.6049201313937336\n"
     ]
    }
   ],
   "source": [
    "#To evaluate our model. let's set a baseline to improve on by choosing at random and seing how that performs. \n",
    "from sklearn.metrics import r2_score\n",
    "from sklearn.metrics import mean_squared_error\n",
    "\n",
    "test = []\n",
    "for i in range(len(y_train)):\n",
    "  test.append(np.mean(y))\n",
    "\n",
    "test = np.array(test)\n",
    "val = np.array(y_train)\n",
    "print(\"Our r squared score is \" + str(r2_score(y_train,test)))\n",
    "print( \"our mean squared error is \" + str(mean_squared_error(y_train, test)))\n",
    "res = [('random', str((r2_score(y_train,test))), str(mean_squared_error(y_train, test)), np.nan)]\n",
    "results = results.append(pd.DataFrame(res, columns=('model', 'train_r2', 'train_mse','cross_val_score' )))\n",
    "\n",
    "\n"
   ]
  },
  {
   "cell_type": "code",
   "execution_count": 69,
   "metadata": {},
   "outputs": [
    {
     "name": "stdout",
     "output_type": "stream",
     "text": [
      "our mean squared error is 1.0374874460294765\n",
      "The best cv score is 0.2916731942774298\n"
     ]
    }
   ],
   "source": [
    "#Let's see if we can narrow the value of alpha more\n",
    "from sklearn.linear_model import Ridge\n",
    "from sklearn.model_selection import GridSearchCV\n",
    "reg = Ridge()\n",
    "alphas=[100,200,300,400, 600]\n",
    "parameters={'alpha':alphas}\n",
    "ridge_gs = GridSearchCV(reg,parameters,cv=5)\n",
    "\n",
    "\n",
    "ridge_gs.fit(X_train, y_train)\n",
    "pred = ridge_gs.predict(X_train)\n",
    "print( \"our mean squared error is \" + str(mean_squared_error(y_train, pred)))\n",
    "\n",
    "      \n",
    "      \n",
    "res = [('Ridge', str((r2_score(y_train,pred))), str(mean_squared_error(y_train, pred)), str(ridge_gs.best_score_ ))]\n",
    "results = results.append(pd.DataFrame(res, columns=('model', 'train_r2', 'train_mse','cross_val_score')))\n",
    "\n",
    "\n",
    "print(\"The best cv score is \" + str(ridge_gs.best_score_ ))"
   ]
  },
  {
   "cell_type": "code",
   "execution_count": 70,
   "metadata": {},
   "outputs": [
    {
     "name": "stdout",
     "output_type": "stream",
     "text": [
      "our mean squared error is 0.672468128287889\n",
      "The best cv score is 0.2802058122982609\n"
     ]
    }
   ],
   "source": [
    "#Now let's compare this to a tree\n",
    "\n",
    "from sklearn.ensemble import RandomForestRegressor\n",
    "reg = RandomForestRegressor()\n",
    "numTrees = [40]\n",
    "max_depth = [2,3,4,5,6]\n",
    "min_samples_leafs = [2,4,6,8]\n",
    "min_samples_split = [2,3,4,5,6,7,8]\n",
    "\n",
    "\n",
    "parameters={'n_estimators':numTrees, 'max_depth':max_depth, 'min_samples_leaf': min_samples_leafs, 'min_samples_split': min_samples_split}\n",
    "\n",
    "\n",
    "\n",
    "forest_gs = GridSearchCV(reg,parameters,cv=5)\n",
    "\n",
    "\n",
    "forest_gs.fit(X_train, np.ravel(y_train))\n",
    "pred = forest_gs.predict(X_train)\n",
    "print( \"our mean squared error is \" + str(mean_squared_error(y_train, pred)))\n",
    "\n",
    "\n",
    "res = [('Forest', str((r2_score(y_train,pred))), str(mean_squared_error(y_train, pred)), str(forest_gs.best_score_ ))]\n",
    "results = results.append(pd.DataFrame(res, columns=('model', 'train_r2', 'train_mse','cross_val_score')))\n",
    "\n",
    "\n",
    "\n",
    "print(\"The best cv score is \" + str(forest_gs.best_score_ ))\n",
    "\n",
    "\n"
   ]
  },
  {
   "cell_type": "code",
   "execution_count": 71,
   "metadata": {},
   "outputs": [
    {
     "name": "stdout",
     "output_type": "stream",
     "text": [
      "our mean squared error is 1.058680790434184\n",
      "The r2 score on the test data is 0.3403421899202249\n",
      "The best cv score is 0.28359566543868664\n"
     ]
    },
    {
     "name": "stderr",
     "output_type": "stream",
     "text": [
      "C:\\Users\\Gila\\Anaconda3\\lib\\site-packages\\sklearn\\model_selection\\_search.py:841: DeprecationWarning: The default of the `iid` parameter will change from True to False in version 0.22 and will be removed in 0.24. This will change numeric results when test-set sizes are unequal.\n",
      "  DeprecationWarning)\n"
     ]
    }
   ],
   "source": [
    "from sklearn.svm import SVR\n",
    "svr = SVR()\n",
    "y_c = np.ravel(y_train)\n",
    "epsilon = np.logspace(-3, 3, 7)\n",
    "gamma = np.logspace(-3, 3, 7)\n",
    "c = np.logspace(-3, 3, 7)\n",
    "\n",
    "parameters={'epsilon':epsilon, 'gamma': gamma, 'C': c}\n",
    "\n",
    "\n",
    "\n",
    "\n",
    "svr_gs = GridSearchCV(svr,parameters,cv=5)\n",
    "\n",
    "svr_gs.fit(X_train,y_c)\n",
    "pred = svr_gs.predict(X_train)\n",
    "print( \"our mean squared error is \" + str(mean_squared_error(y_train, pred)))\n",
    "print (\"The r2 score on the test data is \" + str(r2_score(y_train, pred))) \n",
    "\n",
    "\n",
    "res = [('SVR', str((r2_score(y_train,pred))), str(mean_squared_error(y_train, pred)),str(svr_gs.best_score_ ))]\n",
    "results = results.append(pd.DataFrame(res, columns=('model', 'train_r2', 'train_mse', 'cross_val_score')))\n",
    "print(\"The best cv score is \" + str(svr_gs.best_score_ ))\n"
   ]
  },
  {
   "cell_type": "code",
   "execution_count": 72,
   "metadata": {},
   "outputs": [
    {
     "data": {
      "text/html": [
       "<div>\n",
       "<style scoped>\n",
       "    .dataframe tbody tr th:only-of-type {\n",
       "        vertical-align: middle;\n",
       "    }\n",
       "\n",
       "    .dataframe tbody tr th {\n",
       "        vertical-align: top;\n",
       "    }\n",
       "\n",
       "    .dataframe thead th {\n",
       "        text-align: right;\n",
       "    }\n",
       "</style>\n",
       "<table border=\"1\" class=\"dataframe\">\n",
       "  <thead>\n",
       "    <tr style=\"text-align: right;\">\n",
       "      <th></th>\n",
       "      <th>model</th>\n",
       "      <th>train_r2</th>\n",
       "      <th>train_mse</th>\n",
       "      <th>cross_val_score</th>\n",
       "    </tr>\n",
       "  </thead>\n",
       "  <tbody>\n",
       "    <tr>\n",
       "      <th>0</th>\n",
       "      <td>random</td>\n",
       "      <td>-1.6349398333836973e-05</td>\n",
       "      <td>1.6049201313937336</td>\n",
       "      <td>NaN</td>\n",
       "    </tr>\n",
       "    <tr>\n",
       "      <th>0</th>\n",
       "      <td>Ridge</td>\n",
       "      <td>0.3535476388946436</td>\n",
       "      <td>1.0374874460294765</td>\n",
       "      <td>0.2916731942774298</td>\n",
       "    </tr>\n",
       "    <tr>\n",
       "      <th>0</th>\n",
       "      <td>Forest</td>\n",
       "      <td>0.5809890413965986</td>\n",
       "      <td>0.672468128287889</td>\n",
       "      <td>0.2802058122982609</td>\n",
       "    </tr>\n",
       "    <tr>\n",
       "      <th>0</th>\n",
       "      <td>SVR</td>\n",
       "      <td>0.3403421899202249</td>\n",
       "      <td>1.058680790434184</td>\n",
       "      <td>0.28359566543868664</td>\n",
       "    </tr>\n",
       "  </tbody>\n",
       "</table>\n",
       "</div>"
      ],
      "text/plain": [
       "    model                 train_r2           train_mse      cross_val_score\n",
       "0  random  -1.6349398333836973e-05  1.6049201313937336                  NaN\n",
       "0   Ridge       0.3535476388946436  1.0374874460294765   0.2916731942774298\n",
       "0  Forest       0.5809890413965986   0.672468128287889   0.2802058122982609\n",
       "0     SVR       0.3403421899202249   1.058680790434184  0.28359566543868664"
      ]
     },
     "execution_count": 72,
     "metadata": {},
     "output_type": "execute_result"
    }
   ],
   "source": [
    "results"
   ]
  },
  {
   "cell_type": "markdown",
   "metadata": {},
   "source": [
    "#Analysis and potential use\n",
    "\n",
    "All of our models seem to be doing almost identically on the test data. All also are doing significantly better than the random model. The forest model has significant overfitting. Let's analyze the ridge numbers on the ridge model to see how we can use the model"
   ]
  },
  {
   "cell_type": "code",
   "execution_count": 73,
   "metadata": {},
   "outputs": [
    {
     "data": {
      "text/plain": [
       "Text(0.5, 1.0, 'deviation from true value- Test data')"
      ]
     },
     "execution_count": 73,
     "metadata": {},
     "output_type": "execute_result"
    },
    {
     "data": {
      "image/png": "[encoded data removed]",
      "text/plain": [
       "<Figure size 432x288 with 1 Axes>"
      ]
     },
     "metadata": {
      "needs_background": "light"
     },
     "output_type": "display_data"
    }
   ],
   "source": [
    "#Let's visualize the deviation from the true value. \n",
    "\n",
    "import seaborn as sns\n",
    "pred = ridge_gs.predict(X_test)\n",
    "residual = y_test - pred\n",
    "sns.boxplot(residual)\n",
    "plt.title(\"deviation from true value- Test data\")\n"
   ]
  },
  {
   "cell_type": "code",
   "execution_count": 74,
   "metadata": {},
   "outputs": [
    {
     "data": {
      "text/plain": [
       "0.046052631578947366"
      ]
     },
     "execution_count": 74,
     "metadata": {},
     "output_type": "execute_result"
    }
   ],
   "source": [
    "#number of samples less than 2\n",
    "len(pred[pred<2])/len(pred)"
   ]
  },
  {
   "cell_type": "code",
   "execution_count": 75,
   "metadata": {},
   "outputs": [
    {
     "data": {
      "text/plain": [
       "0.039473684210526314"
      ]
     },
     "execution_count": 75,
     "metadata": {},
     "output_type": "execute_result"
    }
   ],
   "source": [
    "len(pred[pred>4])/len(pred)"
   ]
  },
  {
   "cell_type": "code",
   "execution_count": 77,
   "metadata": {},
   "outputs": [],
   "source": [
    "#Under 10 percent have values in the extreme, 5 or 1 "
   ]
  },
  {
   "cell_type": "code",
   "execution_count": 78,
   "metadata": {},
   "outputs": [
    {
     "data": {
      "text/plain": [
       "Text(0.5, 1.0, 'deviation from true value- Train data')"
      ]
     },
     "execution_count": 78,
     "metadata": {},
     "output_type": "execute_result"
    },
    {
     "data": {
      "image/png": "[encoded data removed]",
      "text/plain": [
       "<Figure size 432x288 with 1 Axes>"
      ]
     },
     "metadata": {
      "needs_background": "light"
     },
     "output_type": "display_data"
    }
   ],
   "source": [
    "import seaborn as sns\n",
    "pred = ridge_gs.predict(X_train)\n",
    "residual = y_train - pred\n",
    "sns.boxplot(residual)\n",
    "plt.title(\"deviation from true value- Train data\")"
   ]
  },
  {
   "cell_type": "code",
   "execution_count": 79,
   "metadata": {},
   "outputs": [],
   "source": [
    "#50 percent of the values fall between -1 and 1 of the true value, agreeing with the fact that our mse is around 1 Since our scale is rated 1 to 5, \n",
    "#this model gives a strong indication of the approximate range, that a person may fit into. \n"
   ]
  },
  {
   "cell_type": "code",
   "execution_count": 81,
   "metadata": {},
   "outputs": [
    {
     "data": {
      "text/plain": [
       "Text(336.9714285714286, 0.5, 'Predicted')"
      ]
     },
     "execution_count": 81,
     "metadata": {},
     "output_type": "execute_result"
    },
    {
     "data": {
      "image/png": "[encoded data removed]",
      "text/plain": [
       "<Figure size 432x432 with 3 Axes>"
      ]
     },
     "metadata": {
      "needs_background": "light"
     },
     "output_type": "display_data"
    }
   ],
   "source": [
    "#Let's look at this from the lens of a joint plot\n",
    "pred = ridge_gs.predict(X_test)\n",
    "sns.jointplot(y_test, pred, kind = 'kde')\n",
    "plt.xlabel(\"True\")\n",
    "plt.ylabel(\"Predicted\")"
   ]
  },
  {
   "cell_type": "code",
   "execution_count": 82,
   "metadata": {},
   "outputs": [],
   "source": [
    "#Note how most of the predicted values fall around a bit less than 3.\n",
    "#Also note that our model doesn't seem to give many predictions above a 4 or below 1.5. \n",
    "\n",
    "#Now let's see how we might use this. \n",
    "#If our model predicts a value, let's say 4, we have a strong indication that they would be a workaholic. \n",
    "#Simmilarly if our model predics a value of 2, it is very possible that the true value they have is 1. \n"
   ]
  },
  {
   "cell_type": "code",
   "execution_count": 89,
   "metadata": {},
   "outputs": [],
   "source": [
    "pred = ridge_gs.predict(X_train)"
   ]
  },
  {
   "cell_type": "code",
   "execution_count": 90,
   "metadata": {},
   "outputs": [
    {
     "data": {
      "text/plain": [
       "Text(336.9714285714286, 0.5, 'Predicted')"
      ]
     },
     "execution_count": 90,
     "metadata": {},
     "output_type": "execute_result"
    },
    {
     "data": {
      "image/png": "[encoded data removed]",
      "text/plain": [
       "<Figure size 432x432 with 3 Axes>"
      ]
     },
     "metadata": {
      "needs_background": "light"
     },
     "output_type": "display_data"
    }
   ],
   "source": [
    "sns.jointplot(np.ravel(y_train), np.ravel(pred), kind = 'kde')\n",
    "plt.title(\"Training graph of true vs predicted values\")\n",
    "plt.xlabel(\"True\")\n",
    "plt.ylabel(\"Predicted\")"
   ]
  },
  {
   "cell_type": "code",
   "execution_count": 91,
   "metadata": {},
   "outputs": [
    {
     "data": {
      "text/plain": [
       "1.1218326313955835"
      ]
     },
     "execution_count": 91,
     "metadata": {},
     "output_type": "execute_result"
    }
   ],
   "source": [
    "#The pred\n",
    "pred = ridge_gs.predict(X_test)\n",
    "mean_squared_error(y_test, pred)"
   ]
  },
  {
   "cell_type": "code",
   "execution_count": null,
   "metadata": {},
   "outputs": [],
   "source": [
    "#Our model does about .5 better than randomly guessing. The MSE though is too high to give an accurate prediction for what the true ranking\n",
    "#out of 5 is. "
   ]
  }
 ],
 "metadata": {
  "kernelspec": {
   "display_name": "Python 3",
   "language": "python",
   "name": "python3"
  },
  "language_info": {
   "codemirror_mode": {
    "name": "ipython",
    "version": 3
   },
   "file_extension": ".py",
   "mimetype": "text/x-python",
   "name": "python",
   "nbconvert_exporter": "python",
   "pygments_lexer": "ipython3",
   "version": "3.7.3"
  }
 },
 "nbformat": 4,
 "nbformat_minor": 2
}
