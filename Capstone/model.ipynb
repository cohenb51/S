{
 "cells": [
  {
   "cell_type": "code",
   "execution_count": 5,
   "metadata": {},
   "outputs": [],
   "source": [
    "import numpy as np"
   ]
  },
  {
   "cell_type": "code",
   "execution_count": 6,
   "metadata": {},
   "outputs": [],
   "source": [
    "dataset = np.loadtxt('A_Z Handwritten Data.csv', delimiter=',')"
   ]
  },
  {
   "cell_type": "code",
   "execution_count": 7,
   "metadata": {},
   "outputs": [],
   "source": [
    "datasetCopy = np.copy(dataset)"
   ]
  },
  {
   "cell_type": "code",
   "execution_count": 8,
   "metadata": {},
   "outputs": [],
   "source": [
    "X = dataset[:,0:784]\n",
    "Y = dataset[:,0]\n"
   ]
  },
  {
   "cell_type": "code",
   "execution_count": 9,
   "metadata": {},
   "outputs": [],
   "source": [
    "Y_copy = np.copy(Y)"
   ]
  },
  {
   "cell_type": "code",
   "execution_count": 10,
   "metadata": {},
   "outputs": [
    {
     "data": {
      "text/plain": [
       "(372451, 784)"
      ]
     },
     "execution_count": 10,
     "metadata": {},
     "output_type": "execute_result"
    }
   ],
   "source": [
    "X.shape"
   ]
  },
  {
   "cell_type": "code",
   "execution_count": 11,
   "metadata": {},
   "outputs": [
    {
     "data": {
      "text/plain": [
       "(372451,)"
      ]
     },
     "execution_count": 11,
     "metadata": {},
     "output_type": "execute_result"
    }
   ],
   "source": [
    "Y.shape"
   ]
  },
  {
   "cell_type": "code",
   "execution_count": 12,
   "metadata": {},
   "outputs": [
    {
     "data": {
      "text/plain": [
       "25.0"
      ]
     },
     "execution_count": 12,
     "metadata": {},
     "output_type": "execute_result"
    }
   ],
   "source": [
    "max(Y)"
   ]
  },
  {
   "cell_type": "code",
   "execution_count": 13,
   "metadata": {},
   "outputs": [],
   "source": [
    "import random\n",
    "def invertColors(numberToInvert, startIndex):\n",
    "    print(\"Calling with \" + str(startIndex))\n",
    "    for i in range(int(numberToInvert)):\n",
    "      index = random.randint(0,numberToInvert)\n",
    "      #print(\"number  \"  + str(index))\n",
    "      X[index + startIndex] = 255 -X[index + startIndex]"
   ]
  },
  {
   "cell_type": "code",
   "execution_count": 14,
   "metadata": {},
   "outputs": [
    {
     "name": "stdout",
     "output_type": "stream",
     "text": [
      "Calling with 0\n",
      "1\n",
      "Calling with 13871\n",
      "2\n",
      "Calling with 22539\n",
      "3\n",
      "Calling with 45948\n",
      "4\n",
      "Calling with 56082\n",
      "5\n",
      "Calling with 67522\n",
      "6\n",
      "Calling with 68685\n",
      "7\n",
      "Calling with 74447\n",
      "8\n",
      "Calling with 81665\n",
      "9\n",
      "Calling with 82785\n",
      "10\n",
      "Calling with 91278\n",
      "11\n",
      "Calling with 96881\n",
      "12\n",
      "Calling with 108467\n",
      "13\n",
      "Calling with 120803\n",
      "14\n",
      "Calling with 139813\n",
      "15\n",
      "Calling with 197638\n",
      "16\n",
      "Calling with 216979\n",
      "17\n",
      "Calling with 222791\n",
      "18\n",
      "Calling with 234357\n",
      "19\n",
      "Calling with 282776\n",
      "20\n",
      "Calling with 305271\n",
      "21\n",
      "Calling with 334279\n",
      "22\n",
      "Calling with 338461\n",
      "23\n",
      "Calling with 349245\n",
      "24\n",
      "Calling with 355517\n",
      "25\n"
     ]
    }
   ],
   "source": [
    "counter = 0\n",
    "currentLetter = 0\n",
    "for i in range(len(dataset)):\n",
    "    counter = counter +1\n",
    "    #print(Y[i])\n",
    "    if (Y[i]) != currentLetter:\n",
    "        currentLetter = currentLetter + 1\n",
    "        invertColors(numberToInvert = counter//2, startIndex = i - counter + 1)\n",
    "        print(currentLetter)\n",
    "        counter = 0\n",
    "    "
   ]
  },
  {
   "cell_type": "code",
   "execution_count": 15,
   "metadata": {},
   "outputs": [
    {
     "data": {
      "text/plain": [
       "255.0"
      ]
     },
     "execution_count": 15,
     "metadata": {},
     "output_type": "execute_result"
    }
   ],
   "source": [
    "#?????????????????????????\n",
    "max(Y)"
   ]
  },
  {
   "cell_type": "code",
   "execution_count": 16,
   "metadata": {},
   "outputs": [],
   "source": [
    "Y = Y_copy # Let's fix mr. weird bug"
   ]
  },
  {
   "cell_type": "code",
   "execution_count": 17,
   "metadata": {},
   "outputs": [
    {
     "data": {
      "text/plain": [
       "25.0"
      ]
     },
     "execution_count": 17,
     "metadata": {},
     "output_type": "execute_result"
    }
   ],
   "source": [
    "max(Y)"
   ]
  },
  {
   "cell_type": "code",
   "execution_count": 18,
   "metadata": {},
   "outputs": [
    {
     "name": "stderr",
     "output_type": "stream",
     "text": [
      "Using TensorFlow backend.\n"
     ]
    }
   ],
   "source": [
    "from keras.preprocessing.image import ImageDataGenerator\n",
    "datagen = ImageDataGenerator(width_shift_range=.2, \n",
    "                             height_shift_range=.2,\n",
    "                             fill_mode='nearest')"
   ]
  },
  {
   "cell_type": "code",
   "execution_count": 19,
   "metadata": {},
   "outputs": [],
   "source": [
    "from sklearn.model_selection import train_test_split\n",
    "(X_train, X_test, Y_train, Y_test) = train_test_split(X, Y, test_size=0.25)"
   ]
  },
  {
   "cell_type": "code",
   "execution_count": 20,
   "metadata": {},
   "outputs": [],
   "source": [
    "X_train = X_train.reshape(X_train.shape[0], 28, 28, 1).astype('float32')\n",
    "X_test = X_test.reshape(X_test.shape[0], 28, 28, 1).astype('float32')"
   ]
  },
  {
   "cell_type": "code",
   "execution_count": 21,
   "metadata": {},
   "outputs": [
    {
     "data": {
      "text/plain": [
       "(372451, 784)"
      ]
     },
     "execution_count": 21,
     "metadata": {},
     "output_type": "execute_result"
    }
   ],
   "source": [
    "X.shape"
   ]
  },
  {
   "cell_type": "code",
   "execution_count": 22,
   "metadata": {},
   "outputs": [
    {
     "data": {
      "text/plain": [
       "(372451,)"
      ]
     },
     "execution_count": 22,
     "metadata": {},
     "output_type": "execute_result"
    }
   ],
   "source": [
    "Y.shape"
   ]
  },
  {
   "cell_type": "code",
   "execution_count": 23,
   "metadata": {},
   "outputs": [],
   "source": [
    "from keras.utils import np_utils\n",
    "Y_train = np_utils.to_categorical(Y_train)\n",
    "Y_test = np_utils.to_categorical(Y_test)\n",
    "X_train = X_train / 255\n",
    "X_test = X_test / 255"
   ]
  },
  {
   "cell_type": "code",
   "execution_count": 24,
   "metadata": {},
   "outputs": [
    {
     "name": "stdout",
     "output_type": "stream",
     "text": [
      "WARNING:tensorflow:From C:\\Users\\Gila\\Anaconda3\\lib\\site-packages\\tensorflow\\python\\framework\\op_def_library.py:263: colocate_with (from tensorflow.python.framework.ops) is deprecated and will be removed in a future version.\n",
      "Instructions for updating:\n",
      "Colocations handled automatically by placer.\n"
     ]
    }
   ],
   "source": [
    "from keras.models import Sequential\n",
    "from keras.layers import Dense, Conv2D, Flatten\n",
    "model = Sequential()\n",
    "\n",
    "model.add(Conv2D(64, kernel_size=3, activation='relu', input_shape=(28,28,1)))\n",
    "model.add(Conv2D(32, kernel_size=3, activation='relu'))\n",
    "model.add(Flatten())\n",
    "model.add(Dense(26, activation='softmax'))"
   ]
  },
  {
   "cell_type": "code",
   "execution_count": 25,
   "metadata": {},
   "outputs": [],
   "source": [
    "model.compile(optimizer='adam', loss='categorical_crossentropy', metrics=['accuracy'])\n"
   ]
  },
  {
   "cell_type": "code",
   "execution_count": 26,
   "metadata": {},
   "outputs": [],
   "source": [
    "datagen.fit(X_train)"
   ]
  },
  {
   "cell_type": "code",
   "execution_count": 27,
   "metadata": {},
   "outputs": [
    {
     "name": "stdout",
     "output_type": "stream",
     "text": [
      "WARNING:tensorflow:From C:\\Users\\Gila\\Anaconda3\\lib\\site-packages\\tensorflow\\python\\ops\\math_ops.py:3066: to_int32 (from tensorflow.python.ops.math_ops) is deprecated and will be removed in a future version.\n",
      "Instructions for updating:\n",
      "Use tf.cast instead.\n",
      "Epoch 1/15\n",
      "8730/8729 [==============================] - 763s 87ms/step - loss: 0.5725 - acc: 0.8357 - val_loss: 0.2665 - val_acc: 0.9211\n",
      "Epoch 2/15\n",
      "8730/8729 [==============================] - 712s 82ms/step - loss: 0.2770 - acc: 0.9205 - val_loss: 0.1791 - val_acc: 0.9476\n",
      "Epoch 3/15\n",
      "8730/8729 [==============================] - 710s 81ms/step - loss: 0.2169 - acc: 0.9378 - val_loss: 0.1740 - val_acc: 0.9488\n",
      "Epoch 4/15\n",
      "8730/8729 [==============================] - 709s 81ms/step - loss: 0.1908 - acc: 0.9452 - val_loss: 0.1492 - val_acc: 0.9579\n",
      "Epoch 5/15\n",
      "8730/8729 [==============================] - 707s 81ms/step - loss: 0.1730 - acc: 0.9509 - val_loss: 0.1493 - val_acc: 0.9572\n",
      "Epoch 6/15\n",
      "8730/8729 [==============================] - 712s 82ms/step - loss: 0.1617 - acc: 0.9544 - val_loss: 0.1288 - val_acc: 0.9633\n",
      "Epoch 7/15\n",
      "8730/8729 [==============================] - 709s 81ms/step - loss: 0.1528 - acc: 0.9568 - val_loss: 0.1464 - val_acc: 0.9573\n",
      "Epoch 8/15\n",
      "8730/8729 [==============================] - 711s 81ms/step - loss: 0.1460 - acc: 0.9593 - val_loss: 0.1283 - val_acc: 0.9642\n",
      "Epoch 9/15\n",
      "8730/8729 [==============================] - 718s 82ms/step - loss: 0.1415 - acc: 0.9606 - val_loss: 0.1245 - val_acc: 0.9643\n",
      "Epoch 10/15\n",
      "8730/8729 [==============================] - 719s 82ms/step - loss: 0.1364 - acc: 0.9615 - val_loss: 0.1306 - val_acc: 0.9628\n",
      "Epoch 11/15\n",
      "8730/8729 [==============================] - 717s 82ms/step - loss: 0.1338 - acc: 0.9625 - val_loss: 0.1290 - val_acc: 0.9629\n",
      "Epoch 12/15\n",
      "8730/8729 [==============================] - 707s 81ms/step - loss: 0.1296 - acc: 0.9638 - val_loss: 0.1287 - val_acc: 0.9643\n",
      "Epoch 13/15\n",
      "8730/8729 [==============================] - 705s 81ms/step - loss: 0.1283 - acc: 0.9642 - val_loss: 0.1076 - val_acc: 0.9701\n",
      "Epoch 14/15\n",
      "8730/8729 [==============================] - 706s 81ms/step - loss: 0.1256 - acc: 0.9651 - val_loss: 0.1059 - val_acc: 0.9709\n",
      "Epoch 15/15\n",
      "8730/8729 [==============================] - 710s 81ms/step - loss: 0.1220 - acc: 0.9660 - val_loss: 0.1252 - val_acc: 0.9652\n"
     ]
    },
    {
     "data": {
      "text/plain": [
       "<keras.callbacks.History at 0x26205a55be0>"
      ]
     },
     "execution_count": 27,
     "metadata": {},
     "output_type": "execute_result"
    }
   ],
   "source": [
    "#model.fit(X_train, Y_train, validation_data=(X_test, Y_test), epochs=2)\n",
    "model.fit_generator(datagen.flow(X_train, Y_train, batch_size=32),\n",
    "                    steps_per_epoch=len(X_train) / 32, epochs=15,validation_data=(X_test, Y_test) )"
   ]
  },
  {
   "cell_type": "code",
   "execution_count": 29,
   "metadata": {},
   "outputs": [],
   "source": [
    "model.save(\"augmented_model.h5\")"
   ]
  },
  {
   "cell_type": "code",
   "execution_count": null,
   "metadata": {},
   "outputs": [],
   "source": []
  }
 ],
 "metadata": {
  "kernelspec": {
   "display_name": "Python 3",
   "language": "python",
   "name": "python3"
  },
  "language_info": {
   "codemirror_mode": {
    "name": "ipython",
    "version": 3
   },
   "file_extension": ".py",
   "mimetype": "text/x-python",
   "name": "python",
   "nbconvert_exporter": "python",
   "pygments_lexer": "ipython3",
   "version": "3.7.3"
  }
 },
 "nbformat": 4,
 "nbformat_minor": 2
}
