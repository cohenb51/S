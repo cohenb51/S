{
 "cells": [
  {
   "cell_type": "code",
   "execution_count": 1,
   "metadata": {},
   "outputs": [],
   "source": [
    "import numpy as np"
   ]
  },
  {
   "cell_type": "markdown",
   "metadata": {},
   "source": [
    "#### Import the data"
   ]
  },
  {
   "cell_type": "code",
   "execution_count": 2,
   "metadata": {},
   "outputs": [],
   "source": [
    "dataset = np.loadtxt(r'../data/A_Z Handwritten Data.csv', delimiter=',')"
   ]
  },
  {
   "cell_type": "code",
   "execution_count": 3,
   "metadata": {},
   "outputs": [
    {
     "data": {
      "text/plain": [
       "(372451, 785)"
      ]
     },
     "execution_count": 3,
     "metadata": {},
     "output_type": "execute_result"
    }
   ],
   "source": [
    "dataset.shape"
   ]
  },
  {
   "cell_type": "markdown",
   "metadata": {},
   "source": [
    "We have 372451 rows"
   ]
  },
  {
   "cell_type": "code",
   "execution_count": 4,
   "metadata": {},
   "outputs": [],
   "source": [
    "X = dataset[:,0:784]\n",
    "Y = dataset[:,0] # our target variable"
   ]
  },
  {
   "cell_type": "markdown",
   "metadata": {},
   "source": [
    "#### Let's validate the Y values range between 0 and 25 for all the upper case letters"
   ]
  },
  {
   "cell_type": "code",
   "execution_count": 5,
   "metadata": {},
   "outputs": [
    {
     "name": "stdout",
     "output_type": "stream",
     "text": [
      "The min is 0.0 and the max is 25.0\n"
     ]
    }
   ],
   "source": [
    "print(\"The min is \" + str(Y.min()) + \" and the max is \" + str(Y.max()))"
   ]
  },
  {
   "cell_type": "markdown",
   "metadata": {},
   "source": [
    "#### Let's look at what these images look like"
   ]
  },
  {
   "cell_type": "code",
   "execution_count": 6,
   "metadata": {},
   "outputs": [
    {
     "name": "stderr",
     "output_type": "stream",
     "text": [
      "Using TensorFlow backend.\n"
     ]
    },
    {
     "data": {
      "image/png": "[encoded data removed]",
      "text/plain": [
       "<PIL.Image.Image image mode=L size=28x28 at 0x24A184400F0>"
      ]
     },
     "execution_count": 6,
     "metadata": {},
     "output_type": "execute_result"
    }
   ],
   "source": [
    "from keras.preprocessing.image import array_to_img # We are going to need these functions for preprocessing\n",
    "tmpImg = X[30].reshape(28, 28, 1).astype('float32')\n",
    "array_to_img(tmpImg)"
   ]
  },
  {
   "cell_type": "markdown",
   "metadata": {},
   "source": [
    "#### Let's validate that all the images are in order"
   ]
  },
  {
   "cell_type": "code",
   "execution_count": 7,
   "metadata": {},
   "outputs": [
    {
     "name": "stdout",
     "output_type": "stream",
     "text": [
      "25\n"
     ]
    }
   ],
   "source": [
    "numSwitch = 0\n",
    "priorLetter = 0.0\n",
    "for i in range(len(Y)):\n",
    "    if Y[i] != priorLetter:\n",
    "        numSwitch = numSwitch + 1\n",
    "        priorLetter = priorLetter + 1\n",
    "print(numSwitch)"
   ]
  },
  {
   "cell_type": "markdown",
   "metadata": {},
   "source": [
    "We see that the letters are allready all in order since we only switched letters 25 times"
   ]
  },
  {
   "cell_type": "markdown",
   "metadata": {},
   "source": [
    "#### Let's explore the data"
   ]
  },
  {
   "cell_type": "code",
   "execution_count": 8,
   "metadata": {},
   "outputs": [
    {
     "data": {
      "text/plain": [
       "array([[0.0000e+00, 1.3870e+04],\n",
       "       [1.0000e+00, 8.6680e+03],\n",
       "       [2.0000e+00, 2.3409e+04],\n",
       "       [3.0000e+00, 1.0134e+04],\n",
       "       [4.0000e+00, 1.1440e+04],\n",
       "       [5.0000e+00, 1.1630e+03],\n",
       "       [6.0000e+00, 5.7620e+03],\n",
       "       [7.0000e+00, 7.2180e+03],\n",
       "       [8.0000e+00, 1.1200e+03],\n",
       "       [9.0000e+00, 8.4930e+03],\n",
       "       [1.0000e+01, 5.6030e+03],\n",
       "       [1.1000e+01, 1.1586e+04],\n",
       "       [1.2000e+01, 1.2336e+04],\n",
       "       [1.3000e+01, 1.9010e+04],\n",
       "       [1.4000e+01, 5.7825e+04],\n",
       "       [1.5000e+01, 1.9341e+04],\n",
       "       [1.6000e+01, 5.8120e+03],\n",
       "       [1.7000e+01, 1.1566e+04],\n",
       "       [1.8000e+01, 4.8419e+04],\n",
       "       [1.9000e+01, 2.2495e+04],\n",
       "       [2.0000e+01, 2.9008e+04],\n",
       "       [2.1000e+01, 4.1820e+03],\n",
       "       [2.2000e+01, 1.0784e+04],\n",
       "       [2.3000e+01, 6.2720e+03],\n",
       "       [2.4000e+01, 1.0859e+04],\n",
       "       [2.5000e+01, 6.0760e+03]])"
      ]
     },
     "execution_count": 8,
     "metadata": {},
     "output_type": "execute_result"
    }
   ],
   "source": [
    "#This prints the count of each alphabet char. 0 is A and 25 is Z\n",
    "unique, counts = np.unique(Y, return_counts=True)\n",
    "frequencyCount = (np.asarray((unique, counts)).T)\n",
    "frequencyCount"
   ]
  },
  {
   "cell_type": "code",
   "execution_count": 18,
   "metadata": {},
   "outputs": [
    {
     "name": "stdout",
     "output_type": "stream",
     "text": [
      "The deviation is \n"
     ]
    },
    {
     "data": {
      "text/plain": [
       "13094.50255312913"
      ]
     },
     "execution_count": 18,
     "metadata": {},
     "output_type": "execute_result"
    }
   ],
   "source": [
    "print(\"The deviation is \")\n",
    "np.std(frequencyCount.T[1])"
   ]
  },
  {
   "cell_type": "code",
   "execution_count": 19,
   "metadata": {},
   "outputs": [
    {
     "name": "stdout",
     "output_type": "stream",
     "text": [
      "The avg is \n"
     ]
    },
    {
     "data": {
      "text/plain": [
       "14325.038461538461"
      ]
     },
     "execution_count": 19,
     "metadata": {},
     "output_type": "execute_result"
    }
   ],
   "source": [
    "print(\"The avg is \")\n",
    "np.mean(frequencyCount.T[1])"
   ]
  },
  {
   "cell_type": "code",
   "execution_count": 9,
   "metadata": {},
   "outputs": [
    {
     "name": "stdout",
     "output_type": "stream",
     "text": [
      "The most pictures of any letter is \n",
      "Letter 14 with 57825 pictures\n"
     ]
    }
   ],
   "source": [
    "#The max of any letter is\n",
    "most = frequencyCount.T[1].max()\n",
    "for i in range(25):\n",
    "  if(frequencyCount.T[1][i] == most):\n",
    "    print(\"The most pictures of any letter is \")\n",
    "    print(\"Letter \" + str(int(frequencyCount.T[0][i])) + \" with \" + str(int(most)) + \" pictures\")"
   ]
  },
  {
   "cell_type": "code",
   "execution_count": 10,
   "metadata": {},
   "outputs": [
    {
     "name": "stdout",
     "output_type": "stream",
     "text": [
      "1120.0\n",
      "The minimum pictures of any letter is \n",
      "Letter 8 with 1120 pictures\n"
     ]
    }
   ],
   "source": [
    "#The min of any letter is\n",
    "minimum = frequencyCount.T[1].min()\n",
    "print(minimum)\n",
    "for i in range(25):\n",
    "  if(frequencyCount.T[1][i] == minimum):\n",
    "    print(\"The minimum pictures of any letter is \")\n",
    "    print(\"Letter \" + str(int(frequencyCount.T[0][i])) + \" with \" + str(int(minimum)) + \" pictures\")"
   ]
  },
  {
   "cell_type": "code",
   "execution_count": 11,
   "metadata": {},
   "outputs": [
    {
     "data": {
      "text/plain": [
       "Text(0.5, 1.0, 'Frequency Counts')"
      ]
     },
     "execution_count": 11,
     "metadata": {},
     "output_type": "execute_result"
    },
    {
     "data": {
      "image/png": "[encoded data removed]",
      "text/plain": [
       "<Figure size 432x288 with 1 Axes>"
      ]
     },
     "metadata": {
      "needs_background": "light"
     },
     "output_type": "display_data"
    }
   ],
   "source": [
    "#Let's graph the distribution\n",
    "%matplotlib inline\n",
    "import matplotlib.pyplot as plt\n",
    "import string\n",
    "plt.bar(frequencyCount.T[0], frequencyCount.T[1], tick_label = ['A','B','C','D','E','F','G','H','I','J','K','L','M','N','O','P','Q','R','S','T','U','V','W','X','Y','Z'])\n",
    "plt.title(\"Frequency Counts\")"
   ]
  },
  {
   "cell_type": "markdown",
   "metadata": {},
   "source": [
    "We can create a hypothesis that this distribution is not representative of the true proportion of letters. \n",
    "Let's create a hypothesis test for a couple of the letters. \n",
    "\n",
    "The null hypothesis is that the true proportion of the letter 'I' is the same in a regular text as it is here. The alternate is that there is a significant difference.\n",
    "\n",
    "Recall, the letter I has 1120 pictures. "
   ]
  },
  {
   "cell_type": "code",
   "execution_count": 12,
   "metadata": {},
   "outputs": [
    {
     "name": "stdout",
     "output_type": "stream",
     "text": [
      "The percentage of the letter I is 0.3007106975145724\n"
     ]
    }
   ],
   "source": [
    "print(\"The percentage of the letter I is \" + str(1120/len(X) * 100))"
   ]
  },
  {
   "cell_type": "markdown",
   "metadata": {},
   "source": [
    "We find here http://practicalcryptography.com/cryptanalysis/letter-frequencies-various-languages/english-letter-frequencies/ that the true proportion of I is 7.33 percent with 4.5 billion samples"
   ]
  },
  {
   "cell_type": "markdown",
   "metadata": {},
   "source": [
    "We can say this is a bernouli distribution. A 'success' is where the letter is a 'F'. A 'failure' is where it isn't an F. \n",
    "Recall that the sum of a bernouli distribution is binomial. \n",
    "\n",
    "We therefore can estimate sigma as sqrt(pq/n) and p = 7.33/100 and q = 1 -p and n = 4.5 billion\n",
    "Note this is a consistant estimator so with so many samples we probably don't even really need to do this test https://en.wikipedia.org/wiki/Consistent_estimator\n"
   ]
  },
  {
   "cell_type": "code",
   "execution_count": 13,
   "metadata": {},
   "outputs": [
    {
     "data": {
      "text/plain": [
       "3.8852172826411306e-06"
      ]
     },
     "execution_count": 13,
     "metadata": {},
     "output_type": "execute_result"
    }
   ],
   "source": [
    "p = 7.33/100\n",
    "q = 1- p\n",
    "\n",
    "sigma = np.sqrt(p*q/4500000000)\n",
    "sigma"
   ]
  },
  {
   "cell_type": "markdown",
   "metadata": {},
   "source": [
    "Sigma is really really small due to the large number of samples We can make a really small 95 percent window"
   ]
  },
  {
   "cell_type": "code",
   "execution_count": 14,
   "metadata": {},
   "outputs": [
    {
     "name": "stdout",
     "output_type": "stream",
     "text": [
      "Upper 95 percent window 0.07330761502587398\n",
      "Lower 95 percent window 0.07329238497412603\n"
     ]
    }
   ],
   "source": [
    "print(\"Upper 95 percent window \" + str(7.33/100 + sigma * 1.96))\n",
    "print(\"Lower 95 percent window \" + str(7.33/100 - sigma * 1.96))"
   ]
  },
  {
   "cell_type": "markdown",
   "metadata": {},
   "source": [
    "Our actual value percentage of 'I', .03 is very far away from it. We can conclude therefore that there is a significant difference between our distribution and the actual"
   ]
  },
  {
   "cell_type": "markdown",
   "metadata": {},
   "source": [
    "Because the sample size is so large and we are dealing with a consistant estimator, we don't need to test all of the other letters. \n",
    "It is clear that our distribution is not the same as the regular frequencies. \n"
   ]
  },
  {
   "cell_type": "code",
   "execution_count": null,
   "metadata": {},
   "outputs": [],
   "source": []
  }
 ],
 "metadata": {
  "kernelspec": {
   "display_name": "Python 3",
   "language": "python",
   "name": "python3"
  },
  "language_info": {
   "codemirror_mode": {
    "name": "ipython",
    "version": 3
   },
   "file_extension": ".py",
   "mimetype": "text/x-python",
   "name": "python",
   "nbconvert_exporter": "python",
   "pygments_lexer": "ipython3",
   "version": "3.7.3"
  }
 },
 "nbformat": 4,
 "nbformat_minor": 2
}
