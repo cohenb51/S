{
 "cells": [
  {
   "cell_type": "code",
   "execution_count": 17,
   "metadata": {},
   "outputs": [
    {
     "name": "stdout",
     "output_type": "stream",
     "text": [
      "Found 11 textline image components.\n",
      "<PIL.JpegImagePlugin.JpegImageFile image mode=L size=14x18 at 0x229772EB7B8>\n",
      "<PIL.JpegImagePlugin.JpegImageFile image mode=L size=11x20 at 0x229772EB4A8>\n",
      "<PIL.JpegImagePlugin.JpegImageFile image mode=L size=3x18 at 0x229772EBDD8>\n",
      "<PIL.JpegImagePlugin.JpegImageFile image mode=L size=9x13 at 0x229772EBE48>\n",
      "<PIL.JpegImagePlugin.JpegImageFile image mode=L size=3x18 at 0x229772EBEB8>\n",
      "<PIL.JpegImagePlugin.JpegImageFile image mode=L size=9x13 at 0x229772EBF28>\n",
      "<PIL.JpegImagePlugin.JpegImageFile image mode=L size=11x13 at 0x229772EBF98>\n",
      "<PIL.JpegImagePlugin.JpegImageFile image mode=L size=9x16 at 0x229772F8048>\n",
      "<PIL.JpegImagePlugin.JpegImageFile image mode=L size=12x13 at 0x229772F80B8>\n",
      "<PIL.JpegImagePlugin.JpegImageFile image mode=L size=9x13 at 0x229772F8128>\n",
      "<PIL.JpegImagePlugin.JpegImageFile image mode=L size=9x16 at 0x229772F8198>\n"
     ]
    },
    {
     "data": {
      "image/png": "[encoded data removed]",
      "text/plain": [
       "<PIL.JpegImagePlugin.JpegImageFile image mode=L size=14x18 at 0x229772EB7B8>"
      ]
     },
     "execution_count": 17,
     "metadata": {},
     "output_type": "execute_result"
    }
   ],
   "source": [
    "from PIL import Image\n",
    "from tesserocr import PyTessBaseAPI, RIL\n",
    "import numpy as np\n",
    "\n",
    "image = r'C:\\Users\\Gila\\Desktop\\Springboard\\Springboard\\Capstone\\test8.png'\n",
    "myImage = Image.open(image);\n",
    "images = []\n",
    "\n",
    "\n",
    "with PyTessBaseAPI(path = r\"C:\\Users\\Gila\\Downloads\\tessdata\" ) as api:\n",
    "    api.SetImage(myImage)\n",
    "    boxes = api.GetComponentImages(RIL.SYMBOL, True)\n",
    "    print('Found {} textline image components.'.format(len(boxes)))\n",
    "    for i, (im, box, _, _) in enumerate(boxes):\n",
    "        # im is a PIL image object\n",
    "        # box is a dict with x, y, w and h keys\n",
    "        print(im)\n",
    "        images.append(im)\n",
    "        \n",
    "images[0] "
   ]
  },
  {
   "cell_type": "code",
   "execution_count": 18,
   "metadata": {},
   "outputs": [
    {
     "data": {
      "image/png": "[encoded data removed]",
      "text/plain": [
       "<PIL.JpegImagePlugin.JpegImageFile image mode=L size=11x20 at 0x229772EB4A8>"
      ]
     },
     "execution_count": 18,
     "metadata": {},
     "output_type": "execute_result"
    }
   ],
   "source": [
    "images[1]"
   ]
  },
  {
   "cell_type": "code",
   "execution_count": 19,
   "metadata": {},
   "outputs": [
    {
     "data": {
      "image/png": "[encoded data removed]",
      "text/plain": [
       "<PIL.JpegImagePlugin.JpegImageFile image mode=L size=3x18 at 0x229772EBDD8>"
      ]
     },
     "execution_count": 19,
     "metadata": {},
     "output_type": "execute_result"
    }
   ],
   "source": [
    "images[2]"
   ]
  },
  {
   "cell_type": "code",
   "execution_count": 20,
   "metadata": {},
   "outputs": [
    {
     "data": {
      "image/png": "[encoded data removed]",
      "text/plain": [
       "<PIL.JpegImagePlugin.JpegImageFile image mode=L size=9x13 at 0x229772EBE48>"
      ]
     },
     "execution_count": 20,
     "metadata": {},
     "output_type": "execute_result"
    }
   ],
   "source": [
    "images[3]"
   ]
  },
  {
   "cell_type": "code",
   "execution_count": 21,
   "metadata": {},
   "outputs": [
    {
     "data": {
      "image/png": "[encoded data removed]",
      "text/plain": [
       "<PIL.JpegImagePlugin.JpegImageFile image mode=L size=3x18 at 0x229772EBEB8>"
      ]
     },
     "execution_count": 21,
     "metadata": {},
     "output_type": "execute_result"
    }
   ],
   "source": [
    "images[4]"
   ]
  },
  {
   "cell_type": "code",
   "execution_count": 22,
   "metadata": {},
   "outputs": [
    {
     "data": {
      "image/png": "[encoded data removed]",
      "text/plain": [
       "<PIL.JpegImagePlugin.JpegImageFile image mode=L size=9x13 at 0x229772EBF28>"
      ]
     },
     "execution_count": 22,
     "metadata": {},
     "output_type": "execute_result"
    }
   ],
   "source": [
    "images[5]"
   ]
  },
  {
   "cell_type": "code",
   "execution_count": 23,
   "metadata": {},
   "outputs": [
    {
     "data": {
      "image/png": "[encoded data removed]",
      "text/plain": [
       "<PIL.JpegImagePlugin.JpegImageFile image mode=L size=11x13 at 0x229772EBF98>"
      ]
     },
     "execution_count": 23,
     "metadata": {},
     "output_type": "execute_result"
    }
   ],
   "source": [
    "images[6]"
   ]
  },
  {
   "cell_type": "code",
   "execution_count": 24,
   "metadata": {},
   "outputs": [
    {
     "data": {
      "image/png": "[encoded data removed]",
      "text/plain": [
       "<PIL.JpegImagePlugin.JpegImageFile image mode=L size=9x16 at 0x229772F8048>"
      ]
     },
     "execution_count": 24,
     "metadata": {},
     "output_type": "execute_result"
    }
   ],
   "source": [
    "images[7]"
   ]
  },
  {
   "cell_type": "code",
   "execution_count": null,
   "metadata": {},
   "outputs": [],
   "source": []
  }
 ],
 "metadata": {
  "kernelspec": {
   "display_name": "Python 3",
   "language": "python",
   "name": "python3"
  },
  "language_info": {
   "codemirror_mode": {
    "name": "ipython",
    "version": 3
   },
   "file_extension": ".py",
   "mimetype": "text/x-python",
   "name": "python",
   "nbconvert_exporter": "python",
   "pygments_lexer": "ipython3",
   "version": "3.7.1"
  }
 },
 "nbformat": 4,
 "nbformat_minor": 2
}
