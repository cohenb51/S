{
 "cells": [
  {
   "cell_type": "code",
   "execution_count": 11,
   "metadata": {},
   "outputs": [
    {
     "name": "stdout",
     "output_type": "stream",
     "text": [
      "WARNING:tensorflow:From C:\\Users\\Gila\\Anaconda3\\lib\\site-packages\\tensorflow\\python\\framework\\op_def_library.py:263: colocate_with (from tensorflow.python.framework.ops) is deprecated and will be removed in a future version.\n",
      "Instructions for updating:\n",
      "Colocations handled automatically by placer.\n",
      "WARNING:tensorflow:From C:\\Users\\Gila\\Anaconda3\\lib\\site-packages\\tensorflow\\python\\ops\\math_ops.py:3066: to_int32 (from tensorflow.python.ops.math_ops) is deprecated and will be removed in a future version.\n",
      "Instructions for updating:\n",
      "Use tf.cast instead.\n"
     ]
    }
   ],
   "source": [
    "from keras.models import load_model\n",
    "model = load_model (\"augmented_model.h5\")"
   ]
  },
  {
   "cell_type": "code",
   "execution_count": null,
   "metadata": {},
   "outputs": [],
   "source": [
    "from PIL import Image\n",
    "from tesserocr import PyTessBaseAPI, RIL\n",
    "import numpy as np\n",
    "\n",
    "#image = r'C:\\Users\\Gila\\Desktop\\Springboard\\Springboard\\Capstone\\test8.png'\n",
    "image = r'C:\\Users\\Gila\\Desktop\\Springboard\\Springboard\\Capstone\\declaration1.jpg'\n",
    "myImage = Image.open(image);\n",
    "images = []\n",
    "\n",
    "\n",
    "with PyTessBaseAPI(path = r\"C:\\Users\\Gila\\Downloads\\tessdata\" ) as api:\n",
    "    api.SetImage(myImage)\n",
    "    boxes = api.GetComponentImages(RIL.SYMBOL, True)\n",
    "    print('Found {} textline image components.'.format(len(boxes)))\n",
    "    for i, (im, box, _, _) in enumerate(boxes):\n",
    "        # im is a PIL image object\n",
    "        # box is a dict with x, y, w and h keys\n",
    "        print(im)\n",
    "        images.append(im)\n",
    "        \n",
    "images[0] "
   ]
  },
  {
   "cell_type": "code",
   "execution_count": 54,
   "metadata": {},
   "outputs": [],
   "source": [
    "from keras.preprocessing.image import img_to_array, array_to_img\n",
    "import cv2\n",
    "import numpy as np\n",
    "letters = list(string.ascii_uppercase)"
   ]
  },
  {
   "cell_type": "code",
   "execution_count": 91,
   "metadata": {},
   "outputs": [],
   "source": [
    "def predictReturnLetter(image):\n",
    "  resized = cv2.resize(image, (28,28)).reshape(28,28,1)\n",
    "  array_to_img(resized)\n",
    "  images= np.array([resized])\n",
    "  predictions = model.predict(images)\n",
    "  return letters[np.argmax(predictions)]\n",
    "\n",
    "def predict(image):\n",
    "  resized = cv2.resize(image, (28,28)).reshape(28,28,1)\n",
    "  array_to_img(resized)\n",
    "  images= np.array([resized])\n",
    "  predictions = model.predict(images)\n",
    "  return predictions"
   ]
  },
  {
   "cell_type": "code",
   "execution_count": 102,
   "metadata": {},
   "outputs": [
    {
     "data": {
      "text/plain": [
       "\"['T', 'H', 'E', 'I', 'J', 'E', 'C', 'L', 'A', 'R', 'A', 'D', 'O', 'V', 'O', 'F', 'I', 'V', 'D', 'E', 'S', 'E', 'V', 'D', 'A', 'W', 'C', 'E', 'W', 'H', 'E', 'V', 'I', 'V', 'T', 'H', 'E', 'C', 'O', 'U', 'R', 'S', 'E', 'O', 'I', 'H', 'U', 'W', 'A', 'V', 'E', 'V', 'E', 'V', 'T', 'S', 'S', 'I', 'T', 'B', 'E', 'C', 'O', 'W', 'E', 'S', 'N', 'E', 'C', 'E', 'S', 'S', 'A', 'R', 'H', 'E', 'M', 'M', 'B', 'Q', 'W', 'D', 'S', 'W', 'I', 'C', 'H', 'H', 'A', 'V', 'R', 'M', 'C', 'O', 'V', 'V', 'E', 'C', 'F', 'E', 'O', 'T', 'E', 'W', 'R', 'I', 'T', 'H', 'A', 'N', 'Q', 'T', 'F', 'S', 'E', 'R', 'J', 'V', 'D', 'T', 'O', 'A', 'S', 'Q', 'S', 'U', 'W', 'E', 'H', 'E', 'S', 'O', 'M', 'I', 'R', 'S', 'L', 'E', 'T', 'A', 'E', 'E', 'A', 'R', 'T', 'H', 'I', 'I', 'W', 'E', 'S', 'E', 'P', 'E', 'R', 'A', 'T', 'E', 'A', 'W', 'D', 'E', 'Q', 'V', 'A', 'I', 'S', 'T', 'A', 'T', 'I', 'O', 'V', 'T', 'O', 'W', 'H', 'I', 'C', 'B', 'T', 'H', 'E', 'L', 'A', 'W', 'S', 'O', 'F', 'W', 'A', 'T', 'U', 'R', 'E', 'A', 'W', 'D', 'O', 'E', 'V', 'A', 'T', 'U', 'R', 'E', 'L', 'S', 'A', 'L']\""
      ]
     },
     "execution_count": 102,
     "metadata": {},
     "output_type": "execute_result"
    }
   ],
   "source": [
    "predictedLetters = []\n",
    "predictedDict = {}\n",
    "for i in range(len(images)):\n",
    "  letter = predictReturnLetter(img_to_array((images[i]))/255)\n",
    "  predictedLetters.append(letter)\n",
    "  predictedDict[i] = letter\n",
    "str(predictedLetters)"
   ]
  },
  {
   "cell_type": "code",
   "execution_count": 105,
   "metadata": {},
   "outputs": [
    {
     "data": {
      "text/plain": [
       "\"{0: 'T', 1: 'H', 2: 'E', 3: 'I', 4: 'J', 5: 'E', 6: 'C', 7: 'L', 8: 'A', 9: 'R', 10: 'A', 11: 'D', 12: 'O', 13: 'V', 14: 'O', 15: 'F', 16: 'I', 17: 'V', 18: 'D', 19: 'E', 20: 'S', 21: 'E', 22: 'V', 23: 'D', 24: 'A', 25: 'W', 26: 'C', 27: 'E', 28: 'W', 29: 'H', 30: 'E', 31: 'V', 32: 'I', 33: 'V', 34: 'T', 35: 'H', 36: 'E', 37: 'C', 38: 'O', 39: 'U', 40: 'R', 41: 'S', 42: 'E', 43: 'O', 44: 'I', 45: 'H', 46: 'U', 47: 'W', 48: 'A', 49: 'V', 50: 'E', 51: 'V', 52: 'E', 53: 'V', 54: 'T', 55: 'S', 56: 'S', 57: 'I', 58: 'T', 59: 'B', 60: 'E', 61: 'C', 62: 'O', 63: 'W', 64: 'E', 65: 'S', 66: 'N', 67: 'E', 68: 'C', 69: 'E', 70: 'S', 71: 'S', 72: 'A', 73: 'R', 74: 'H', 75: 'E', 76: 'M', 77: 'M', 78: 'B', 79: 'Q', 80: 'W', 81: 'D', 82: 'S', 83: 'W', 84: 'I', 85: 'C', 86: 'H', 87: 'H', 88: 'A', 89: 'V', 90: 'R', 91: 'M', 92: 'C', 93: 'O', 94: 'V', 95: 'V', 96: 'E', 97: 'C', 98: 'F', 99: 'E', 100: 'O', 101: 'T', 102: 'E', 103: 'W', 104: 'R', 105: 'I', 106: 'T', 107: 'H', 108: 'A', 109: 'N', 110: 'Q', 111: 'T', 112: 'F', 113: 'S', 114: 'E', 115: 'R', 116: 'J', 117: 'V', 118: 'D', 119: 'T', 120: 'O', 121: 'A', 122: 'S', 123: 'Q', 124: 'S', 125: 'U', 126: 'W', 127: 'E', 128: 'H', 129: 'E', 130: 'S', 131: 'O', 132: 'M', 133: 'I', 134: 'R', 135: 'S', 136: 'L', 137: 'E', 138: 'T', 139: 'A', 140: 'E', 141: 'E', 142: 'A', 143: 'R', 144: 'T', 145: 'H', 146: 'I', 147: 'I', 148: 'W', 149: 'E', 150: 'S', 151: 'E', 152: 'P', 153: 'E', 154: 'R', 155: 'A', 156: 'T', 157: 'E', 158: 'A', 159: 'W', 160: 'D', 161: 'E', 162: 'Q', 163: 'V', 164: 'A', 165: 'I', 166: 'S', 167: 'T', 168: 'A', 169: 'T', 170: 'I', 171: 'O', 172: 'V', 173: 'T', 174: 'O', 175: 'W', 176: 'H', 177: 'I', 178: 'C', 179: 'B', 180: 'T', 181: 'H', 182: 'E', 183: 'L', 184: 'A', 185: 'W', 186: 'S', 187: 'O', 188: 'F', 189: 'W', 190: 'A', 191: 'T', 192: 'U', 193: 'R', 194: 'E', 195: 'A', 196: 'W', 197: 'D', 198: 'O', 199: 'E', 200: 'V', 201: 'A', 202: 'T', 203: 'U', 204: 'R', 205: 'E', 206: 'L', 207: 'S', 208: 'A', 209: 'L'}\""
      ]
     },
     "execution_count": 105,
     "metadata": {},
     "output_type": "execute_result"
    }
   ],
   "source": [
    "str(predictedDict)"
   ]
  },
  {
   "cell_type": "code",
   "execution_count": 93,
   "metadata": {},
   "outputs": [],
   "source": [
    "#TheDeclarationofIndependenceWhenintheCourseofhumaneventsitbecomesnecessaryforonepeopletodissolvethepoliticalbandswhichhaveconnectedthemwithanotherandtoassumeamongthepowersoftheearththeseparateandequalstationtowhichtheLawsofNatureandofNature's"
   ]
  },
  {
   "cell_type": "markdown",
   "metadata": {},
   "source": [
    "# Images the model got wrong"
   ]
  },
  {
   "cell_type": "code",
   "execution_count": 94,
   "metadata": {},
   "outputs": [
    {
     "data": {
      "image/png": "[encoded data removed]",
      "text/plain": [
       "<PIL.JpegImagePlugin.JpegImageFile image mode=L size=7x39 at 0x226DA835080>"
      ]
     },
     "execution_count": 94,
     "metadata": {},
     "output_type": "execute_result"
    }
   ],
   "source": [
    "images[3] # image 3 and 4 should be together to make a D"
   ]
  },
  {
   "cell_type": "code",
   "execution_count": 95,
   "metadata": {},
   "outputs": [
    {
     "data": {
      "image/png": "[encoded data removed]",
      "text/plain": [
       "<PIL.JpegImagePlugin.JpegImageFile image mode=L size=15x33 at 0x226DA72A438>"
      ]
     },
     "execution_count": 95,
     "metadata": {},
     "output_type": "execute_result"
    }
   ],
   "source": [
    "images[4]"
   ]
  },
  {
   "cell_type": "code",
   "execution_count": 96,
   "metadata": {},
   "outputs": [
    {
     "data": {
      "image/png": "[encoded data removed]",
      "text/plain": [
       "<PIL.JpegImagePlugin.JpegImageFile image mode=L size=66x45 at 0x226DA72A978>"
      ]
     },
     "execution_count": 96,
     "metadata": {},
     "output_type": "execute_result"
    }
   ],
   "source": [
    "images[11] #This should be a T then an I. "
   ]
  },
  {
   "cell_type": "code",
   "execution_count": 97,
   "metadata": {},
   "outputs": [
    {
     "data": {
      "image/png": "[encoded data removed]",
      "text/plain": [
       "<PIL.JpegImagePlugin.JpegImageFile image mode=L size=31x37 at 0x226D9F4ADA0>"
      ]
     },
     "execution_count": 97,
     "metadata": {},
     "output_type": "execute_result"
    }
   ],
   "source": [
    "images[13] # This was predicted as a V. \n"
   ]
  },
  {
   "cell_type": "code",
   "execution_count": 98,
   "metadata": {},
   "outputs": [
    {
     "data": {
      "text/plain": [
       "array([[4.05457011e-15, 5.24132214e-15, 1.79802763e-19, 1.96738632e-11,\n",
       "        3.57857073e-29, 2.93007808e-26, 1.09603185e-17, 8.58006000e-10,\n",
       "        1.22628774e-28, 2.85291595e-18, 6.84836726e-16, 2.51425352e-18,\n",
       "        1.02947551e-13, 8.78204082e-06, 3.56372138e-14, 4.78067809e-15,\n",
       "        9.74017281e-17, 1.08173064e-17, 5.00686935e-26, 8.16494473e-21,\n",
       "        6.78768174e-07, 9.99949932e-01, 4.05976753e-05, 1.13184105e-19,\n",
       "        1.11508288e-14, 1.62254121e-29]], dtype=float32)"
      ]
     },
     "execution_count": 98,
     "metadata": {},
     "output_type": "execute_result"
    }
   ],
   "source": [
    "predict(img_to_array((images[13]))/255)"
   ]
  },
  {
   "cell_type": "code",
   "execution_count": 99,
   "metadata": {},
   "outputs": [],
   "source": [
    "import string"
   ]
  },
  {
   "cell_type": "code",
   "execution_count": null,
   "metadata": {},
   "outputs": [],
   "source": []
  },
  {
   "cell_type": "code",
   "execution_count": 100,
   "metadata": {},
   "outputs": [
    {
     "data": {
      "text/plain": [
       "'T'"
      ]
     },
     "execution_count": 100,
     "metadata": {},
     "output_type": "execute_result"
    }
   ],
   "source": [
    "letters[np.argmax(predictions)]"
   ]
  },
  {
   "cell_type": "code",
   "execution_count": 118,
   "metadata": {},
   "outputs": [
    {
     "data": {
      "image/png": "[encoded data removed]",
      "text/plain": [
       "<PIL.JpegImagePlugin.JpegImageFile image mode=L size=15x38 at 0x226DA741D68>"
      ]
     },
     "execution_count": 118,
     "metadata": {},
     "output_type": "execute_result"
    }
   ],
   "source": [
    "images[20]"
   ]
  },
  {
   "cell_type": "code",
   "execution_count": 123,
   "metadata": {},
   "outputs": [
    {
     "data": {
      "text/plain": [
       "array([[3.6998055e-05, 4.2940485e-03, 2.9439561e-03, 1.1294030e-03,\n",
       "        2.8577823e-02, 9.6963253e-05, 5.2041935e-09, 9.6575727e-11,\n",
       "        8.6163851e-15, 3.0268048e-08, 2.3561659e-13, 9.7461104e-16,\n",
       "        1.3335442e-07, 2.8144662e-08, 6.1670847e-02, 3.4700754e-01,\n",
       "        1.9984629e-05, 1.2461079e-02, 5.4175586e-01, 4.6394939e-07,\n",
       "        4.7694721e-06, 4.1582040e-11, 1.5695197e-07, 2.5538040e-11,\n",
       "        9.1141102e-11, 6.9620577e-12]], dtype=float32)"
      ]
     },
     "execution_count": 123,
     "metadata": {},
     "output_type": "execute_result"
    }
   ],
   "source": [
    "predict(img_to_array((images[20]))/255)"
   ]
  },
  {
   "cell_type": "code",
   "execution_count": 121,
   "metadata": {},
   "outputs": [
    {
     "data": {
      "text/plain": [
       "'S'"
      ]
     },
     "execution_count": 121,
     "metadata": {},
     "output_type": "execute_result"
    }
   ],
   "source": [
    "predictedLetters[20]"
   ]
  },
  {
   "cell_type": "code",
   "execution_count": null,
   "metadata": {},
   "outputs": [],
   "source": []
  }
 ],
 "metadata": {
  "kernelspec": {
   "display_name": "Python 3",
   "language": "python",
   "name": "python3"
  },
  "language_info": {
   "codemirror_mode": {
    "name": "ipython",
    "version": 3
   },
   "file_extension": ".py",
   "mimetype": "text/x-python",
   "name": "python",
   "nbconvert_exporter": "python",
   "pygments_lexer": "ipython3",
   "version": "3.7.1"
  }
 },
 "nbformat": 4,
 "nbformat_minor": 2
}
